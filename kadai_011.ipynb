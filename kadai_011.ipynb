{
  "nbformat": 4,
  "nbformat_minor": 0,
  "metadata": {
    "colab": {
      "provenance": []
    },
    "kernelspec": {
      "name": "python3",
      "display_name": "Python 3"
    },
    "language_info": {
      "name": "python"
    }
  },
  "cells": [
    {
      "cell_type": "code",
      "execution_count": 59,
      "metadata": {
        "colab": {
          "base_uri": "https://localhost:8080/"
        },
        "id": "QNB46nI9ChHG",
        "outputId": "7d732c11-fdf0-4117-c438-5f21016828bc"
      },
      "outputs": [
        {
          "output_type": "stream",
          "name": "stdout",
          "text": [
            "水\n",
            "金\n",
            "地\n",
            "火\n",
            "木\n",
            "土\n",
            "天\n",
            "海\n",
            "冥\n",
            "水\n",
            "金\n",
            "地\n",
            "火\n",
            "木\n",
            "土\n",
            "天\n",
            "海\n",
            "冥\n"
          ]
        }
      ],
      "source": [
        "list=[\"水\",\"金\",\"地\",\"火\",\"木\",\"土\",\"天\",\"海\",\"冥\"]\n",
        "\n",
        "for solar_system in list:\n",
        "  print(solar_system)\n",
        "for solar_system in list:\n",
        "  print(solar_system)\n"
      ]
    },
    {
      "cell_type": "code",
      "source": [
        "list=[\"水\",\"金\",\"地\",\"火\",\"木\",\"土\",\"天\",\"海\",\"冥\"]\n",
        "\n",
        "i=0\n",
        "n=0\n",
        "while i<=8:\n",
        "  print (list[i])\n",
        "  i=i+1\n",
        "\n",
        "while n<=8:\n",
        "  print (list[n])\n",
        "  n=n+1\n",
        ""
      ],
      "metadata": {
        "colab": {
          "base_uri": "https://localhost:8080/"
        },
        "id": "eC4OaGq0PAj0",
        "outputId": "4568794d-55aa-4d33-ad3d-0d1b1f162298"
      },
      "execution_count": 73,
      "outputs": [
        {
          "output_type": "stream",
          "name": "stdout",
          "text": [
            "水\n",
            "金\n",
            "地\n",
            "火\n",
            "木\n",
            "土\n",
            "天\n",
            "海\n",
            "冥\n",
            "水\n",
            "金\n",
            "地\n",
            "火\n",
            "木\n",
            "土\n",
            "天\n",
            "海\n",
            "冥\n"
          ]
        }
      ]
    },
    {
      "cell_type": "markdown",
      "source": [
        "list=[\"水\",\"金\",\"地\",\"火\",\"木\",\"土\",\"天\",\"海\",\"冥\"]\n",
        "\n",
        "n=0\n",
        "\n",
        "i=0\n",
        "\n",
        "  if i <=8 :\n",
        "    print (list[i])\n",
        "    i = i + 1\n",
        "    n = n + 1"
      ],
      "metadata": {
        "id": "7TpsnN_bDHwi"
      }
    }
  ]
}